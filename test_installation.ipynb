{
 "cells": [
  {
   "cell_type": "code",
   "execution_count": 2,
   "metadata": {},
   "outputs": [
    {
     "data": {
      "text/plain": [
       "True"
      ]
     },
     "execution_count": 2,
     "metadata": {},
     "output_type": "execute_result"
    }
   ],
   "source": [
    "from web3 import Web3\n",
    "from dotenv import load_dotenv\n",
    "load_dotenv()"
   ]
  },
  {
   "cell_type": "code",
   "execution_count": 3,
   "metadata": {},
   "outputs": [
    {
     "data": {
      "text/plain": [
       "<bound method RequestManager.request_blocking of <web3.manager.RequestManager object at 0x7fb331629f40>>"
      ]
     },
     "execution_count": 3,
     "metadata": {},
     "output_type": "execute_result"
    }
   ],
   "source": [
    "rpc_endpoint_address=os.environ.get('POLYGON_RPC_ENDPOINT')\n",
    "w3 = Web3(Web3.HTTPProvider(rpc_endpoint_address))\n",
    "w3.manager.request_blocking"
   ]
  },
  {
   "cell_type": "code",
   "execution_count": 4,
   "metadata": {},
   "outputs": [
    {
     "data": {
      "text/plain": [
       "0"
      ]
     },
     "execution_count": 4,
     "metadata": {},
     "output_type": "execute_result"
    }
   ],
   "source": [
    "w3.eth.get_balance(w3.toChecksumAddress(\"0x3C286c825A5787FF4Ebb9BBaaeC37F2b986c8961\"))"
   ]
  },
  {
   "cell_type": "code",
   "execution_count": 10,
   "metadata": {},
   "outputs": [
    {
     "name": "stdout",
     "output_type": "stream",
     "text": [
      "0x6b1363b064a19f1addbdf185e68366f60c59778d1d4e8562ad373ccc1a8060c1\n"
     ]
    }
   ],
   "source": [
    "account = w3.eth.account.from_key(os.environ.get('PRIVATE_KEY'))\n",
    "dev_account = '0x3C286c825A5787FF4Ebb9BBaaeC37F2b986c8961'\n",
    "ethernaut_account = '0xa0519F2739cF0f8E4D6E73A91eBfb71765bc59E1'\n",
    "\n",
    "\n",
    "nonce = w3.eth.getTransactionCount(dev_account)\n",
    "\n",
    "#build a transaction in a dictionary\n",
    "tx = {\n",
    "    'nonce': nonce,\n",
    "    'to': ethernaut_account,\n",
    "    'value': w3.toWei(1, 'ether'),\n",
    "    'gas': 2000000,\n",
    "    'chainId': 137,\n",
    "    'gasPrice': w3.toWei('50', 'gwei')\n",
    "}\n",
    "\n",
    "#sign the transaction\n",
    "signed_tx = w3.eth.account.sign_transaction(tx, os.environ.get('PRIVATE_KEY'))\n",
    "\n",
    "#send transaction\n",
    "tx_hash = w3.eth.sendRawTransaction(signed_tx.rawTransaction)\n",
    "\n",
    "#get transaction hash\n",
    "print(w3.toHex(tx_hash))"
   ]
  },
  {
   "cell_type": "code",
   "execution_count": null,
   "metadata": {},
   "outputs": [],
   "source": []
  }
 ],
 "metadata": {
  "kernelspec": {
   "display_name": "Python 3.8.13 ('seattleu')",
   "language": "python",
   "name": "python3"
  },
  "language_info": {
   "codemirror_mode": {
    "name": "ipython",
    "version": 3
   },
   "file_extension": ".py",
   "mimetype": "text/x-python",
   "name": "python",
   "nbconvert_exporter": "python",
   "pygments_lexer": "ipython3",
   "version": "3.8.13"
  },
  "orig_nbformat": 4,
  "vscode": {
   "interpreter": {
    "hash": "8917355fab40639117bb7642ead643737be3b8a4d9b248feaba9ce2c41e6cbf7"
   }
  }
 },
 "nbformat": 4,
 "nbformat_minor": 2
}
