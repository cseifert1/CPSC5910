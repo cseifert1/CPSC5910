{
 "cells": [
  {
   "cell_type": "code",
   "execution_count": 11,
   "metadata": {},
   "outputs": [
    {
     "data": {
      "text/html": [
       "<div>\n",
       "<style scoped>\n",
       "    .dataframe tbody tr th:only-of-type {\n",
       "        vertical-align: middle;\n",
       "    }\n",
       "\n",
       "    .dataframe tbody tr th {\n",
       "        vertical-align: top;\n",
       "    }\n",
       "\n",
       "    .dataframe thead th {\n",
       "        text-align: right;\n",
       "    }\n",
       "</style>\n",
       "<table border=\"1\" class=\"dataframe\">\n",
       "  <thead>\n",
       "    <tr style=\"text-align: right;\">\n",
       "      <th></th>\n",
       "      <th>Address</th>\n",
       "      <th>tag</th>\n",
       "    </tr>\n",
       "  </thead>\n",
       "  <tbody>\n",
       "    <tr>\n",
       "      <th>0</th>\n",
       "      <td>0x3C286c825A5787FF4Ebb9BBaaeC37F2b986c8961</td>\n",
       "      <td></td>\n",
       "    </tr>\n",
       "    <tr>\n",
       "      <th>1</th>\n",
       "      <td>0x2791Bca1f2de4661ED88A30C99A7a9449Aa84174</td>\n",
       "      <td></td>\n",
       "    </tr>\n",
       "    <tr>\n",
       "      <th>2</th>\n",
       "      <td>0x876eabf441b2ee5b5b0554fd502a8e0600950cfa</td>\n",
       "      <td>Bitfinex 3</td>\n",
       "    </tr>\n",
       "  </tbody>\n",
       "</table>\n",
       "</div>"
      ],
      "text/plain": [
       "                                      Address         tag\n",
       "0  0x3C286c825A5787FF4Ebb9BBaaeC37F2b986c8961            \n",
       "1  0x2791Bca1f2de4661ED88A30C99A7a9449Aa84174            \n",
       "2  0x876eabf441b2ee5b5b0554fd502a8e0600950cfa  Bitfinex 3"
      ]
     },
     "execution_count": 11,
     "metadata": {},
     "output_type": "execute_result"
    }
   ],
   "source": [
    "import requests\n",
    "import pandas as pd\n",
    "import json\n",
    "from dotenv import load_dotenv\n",
    "load_dotenv()  # have your rpc endpoint in .env file to prevent accidental commit to github\n",
    "\n",
    "\n",
    "url = \"https://q.luabase.com/run\"\n",
    "df_addresses = pd.read_csv('Session07_Addresses.csv')\n",
    "df_addresses['tag'] = \"\"\n",
    "for row in df_addresses.itertuples():\n",
    "    if row is not None:\n",
    "        sql = f\"select * FROM ethereum.tags WHERE address = '{row.Address.lower()}'\"\n",
    "        payload = {\n",
    "            \"block\": {\n",
    "                \"details\": {\n",
    "                \"sql\": sql,\n",
    "                }\n",
    "            },\n",
    "\t        \"api_key\": LUABASE_API_KEY\n",
    "        }\n",
    "\n",
    "        headers = {\"content-type\": \"application/json\"}\n",
    "        response = requests.request(\"POST\", url, json=payload, headers=headers)\n",
    "        data = response.json()\n",
    "        if len(data['data']) > 0:   \n",
    "            df_addresses.at[row.Index, 'tag'] = data['data'][0]['tag']\n",
    "\n",
    "df_addresses\n"
   ]
  }
 ],
 "metadata": {
  "kernelspec": {
   "display_name": "Python 3.8.13 ('seattleu')",
   "language": "python",
   "name": "python3"
  },
  "language_info": {
   "codemirror_mode": {
    "name": "ipython",
    "version": 3
   },
   "file_extension": ".py",
   "mimetype": "text/x-python",
   "name": "python",
   "nbconvert_exporter": "python",
   "pygments_lexer": "ipython3",
   "version": "3.8.13"
  },
  "orig_nbformat": 4,
  "vscode": {
   "interpreter": {
    "hash": "8917355fab40639117bb7642ead643737be3b8a4d9b248feaba9ce2c41e6cbf7"
   }
  }
 },
 "nbformat": 4,
 "nbformat_minor": 2
}
