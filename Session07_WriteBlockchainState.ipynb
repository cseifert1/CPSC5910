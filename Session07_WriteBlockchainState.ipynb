{
 "cells": [
  {
   "cell_type": "code",
   "execution_count": 1,
   "metadata": {},
   "outputs": [
    {
     "data": {
      "text/plain": [
       "True"
      ]
     },
     "execution_count": 1,
     "metadata": {},
     "output_type": "execute_result"
    }
   ],
   "source": [
    "from web3 import Web3\n",
    "import json\n",
    "from hexbytes import HexBytes\n",
    "from web3.middleware import geth_poa_middleware\n",
    "from dotenv import load_dotenv\n",
    "load_dotenv()  # have your rpc endpoint in .env file to prevent accidental commit to github"
   ]
  },
  {
   "cell_type": "code",
   "execution_count": 2,
   "metadata": {},
   "outputs": [
    {
     "data": {
      "text/plain": [
       "<bound method RequestManager.request_blocking of <web3.manager.RequestManager object at 0x7fd428d49430>>"
      ]
     },
     "execution_count": 2,
     "metadata": {},
     "output_type": "execute_result"
    }
   ],
   "source": [
    "# connect to the RPC endpoint\n",
    "rpc_endpoint_address=os.environ.get('POLYGON_RPC_ENDPOINT')\n",
    "w3 = Web3(Web3.HTTPProvider(rpc_endpoint_address))\n",
    "w3.middleware_onion.inject(geth_poa_middleware, layer=0)\n",
    "w3.manager.request_blocking"
   ]
  },
  {
   "cell_type": "code",
   "execution_count": 43,
   "metadata": {},
   "outputs": [],
   "source": [
    "# we generate the private key, which we export from metamask\n",
    "account = w3.eth.account.from_key(os.environ.get('PRIVATE_KEY'))"
   ]
  },
  {
   "cell_type": "code",
   "execution_count": 39,
   "metadata": {},
   "outputs": [
    {
     "data": {
      "text/plain": [
       "'0x3C286c825A5787FF4Ebb9BBaaeC37F2b986c8961'"
      ]
     },
     "execution_count": 39,
     "metadata": {},
     "output_type": "execute_result"
    }
   ],
   "source": [
    "# the public address is\n",
    "account.address"
   ]
  },
  {
   "cell_type": "code",
   "execution_count": 6,
   "metadata": {},
   "outputs": [
    {
     "data": {
      "text/plain": [
       "18998950000000000000"
      ]
     },
     "execution_count": 6,
     "metadata": {},
     "output_type": "execute_result"
    }
   ],
   "source": [
    "# get balance 10K ago\n",
    "w3.eth.get_balance(account.address)"
   ]
  },
  {
   "cell_type": "code",
   "execution_count": 32,
   "metadata": {},
   "outputs": [
    {
     "data": {
      "text/plain": [
       "1200000000000000000"
      ]
     },
     "execution_count": 32,
     "metadata": {},
     "output_type": "execute_result"
    }
   ],
   "source": [
    "# we will send 0.1 MATIC to this address\n",
    "to_address = \"0xa0519F2739cF0f8E4D6E73A91eBfb71765bc59E1\"\n",
    "w3.eth.get_balance(to_address)"
   ]
  },
  {
   "cell_type": "code",
   "execution_count": 57,
   "metadata": {},
   "outputs": [
    {
     "data": {
      "text/plain": [
       "30000000000"
      ]
     },
     "execution_count": 57,
     "metadata": {},
     "output_type": "execute_result"
    }
   ],
   "source": [
    "w3.eth.max_priority_fee"
   ]
  },
  {
   "cell_type": "code",
   "execution_count": 27,
   "metadata": {},
   "outputs": [
    {
     "data": {
      "text/plain": [
       "HexBytes('0xfe4103ce4b9f8c15e664f8cdd900dfd796f24abbec0898a59d7f0031bd1ce48f')"
      ]
     },
     "execution_count": 27,
     "metadata": {},
     "output_type": "execute_result"
    }
   ],
   "source": [
    "# lets do a native transfer\n",
    "nonce = w3.eth.getTransactionCount(account.address)\n",
    "\n",
    "tx = {\n",
    "    'nonce': nonce,\n",
    "    'to': to_address,\n",
    "    'value': w3.toWei(0.1, 'ether'),\n",
    "    'chainId': 137,\n",
    "    'gas': 2000000,\n",
    "    'maxFeePerGas': w3.eth.gas_price,\n",
    "    'maxPriorityFeePerGas': w3.eth.max_priority_fee,\n",
    "}\n",
    "\n",
    "gas = w3.eth.estimateGas(tx)\n",
    "tx['gas'] = gas\n",
    "\n",
    "\n",
    "signed_tx = w3.eth.account.sign_transaction(tx, account.privateKey)\n",
    "\n",
    "tx_hash = w3.eth.sendRawTransaction(signed_tx.rawTransaction)\n",
    "tx_hash"
   ]
  },
  {
   "cell_type": "code",
   "execution_count": 28,
   "metadata": {},
   "outputs": [
    {
     "data": {
      "text/plain": [
       "AttributeDict({'blockHash': HexBytes('0x32f65e6152cbfe8dc4709d793763fcff21ed2aed00cfcf1cfb86bc9a694b2417'),\n",
       " 'blockNumber': 33039853,\n",
       " 'contractAddress': None,\n",
       " 'cumulativeGasUsed': 7867635,\n",
       " 'effectiveGasPrice': 30000000016,\n",
       " 'from': '0x3C286c825A5787FF4Ebb9BBaaeC37F2b986c8961',\n",
       " 'gasUsed': 21000,\n",
       " 'logs': [AttributeDict({'address': '0x0000000000000000000000000000000000001010',\n",
       "   'topics': [HexBytes('0xe6497e3ee548a3372136af2fcb0696db31fc6cf20260707645068bd3fe97f3c4'),\n",
       "    HexBytes('0x0000000000000000000000000000000000000000000000000000000000001010'),\n",
       "    HexBytes('0x0000000000000000000000003c286c825a5787ff4ebb9bbaaec37f2b986c8961'),\n",
       "    HexBytes('0x000000000000000000000000a0519f2739cf0f8e4d6e73a91ebfb71765bc59e1')],\n",
       "   'data': '0x000000000000000000000000000000000000000000000000016345785d8a0000000000000000000000000000000000000000000000000001064214ee456af9280000000000000000000000000000000000000000000000000f43fc2c04ee000000000000000000000000000000000000000000000000000104decf75e7e0f92800000000000000000000000000000000000000000000000010a741a462780000',\n",
       "   'blockNumber': 33039853,\n",
       "   'transactionHash': HexBytes('0xfe4103ce4b9f8c15e664f8cdd900dfd796f24abbec0898a59d7f0031bd1ce48f'),\n",
       "   'transactionIndex': 41,\n",
       "   'blockHash': HexBytes('0x32f65e6152cbfe8dc4709d793763fcff21ed2aed00cfcf1cfb86bc9a694b2417'),\n",
       "   'logIndex': 174,\n",
       "   'removed': False}),\n",
       "  AttributeDict({'address': '0x0000000000000000000000000000000000001010',\n",
       "   'topics': [HexBytes('0x4dfe1bbbcf077ddc3e01291eea2d5c70c2b422b415d95645b9adcfd678cb1d63'),\n",
       "    HexBytes('0x0000000000000000000000000000000000000000000000000000000000001010'),\n",
       "    HexBytes('0x0000000000000000000000003c286c825a5787ff4ebb9bbaaec37f2b986c8961'),\n",
       "    HexBytes('0x00000000000000000000000067b94473d81d0cd00849d563c94d0432ac988b49')],\n",
       "   'data': '0x00000000000000000000000000000000000000000000000000023cfb4e356000000000000000000000000000000000000000000000000001064451e993a579a800000000000000000000000000000000000000000000125f7d788de1bfe49f7a000000000000000000000000000000000000000000000001064214ee457019a800000000000000000000000000000000000000000000125f7d7acadd0e19ff7a',\n",
       "   'blockNumber': 33039853,\n",
       "   'transactionHash': HexBytes('0xfe4103ce4b9f8c15e664f8cdd900dfd796f24abbec0898a59d7f0031bd1ce48f'),\n",
       "   'transactionIndex': 41,\n",
       "   'blockHash': HexBytes('0x32f65e6152cbfe8dc4709d793763fcff21ed2aed00cfcf1cfb86bc9a694b2417'),\n",
       "   'logIndex': 175,\n",
       "   'removed': False})],\n",
       " 'logsBloom': HexBytes('0x00000000000000000000000000000000040000000000000080000000000000000000000000000000000000100000000000008000000000000000000000000000000000000000000000000000000000800000000000000000000100000000000000000000000000000000000000000000000000000000000080000000000008000000000000000040000000000000000000000000000000000000000000000000200000000000000000000000000000000000080000000000000000000000004000800000000000000001000000008000000000000000800000108000000000000000020000000000000001000000000000000000000000000000000000100000'),\n",
       " 'status': 1,\n",
       " 'to': '0xa0519F2739cF0f8E4D6E73A91eBfb71765bc59E1',\n",
       " 'transactionHash': HexBytes('0xfe4103ce4b9f8c15e664f8cdd900dfd796f24abbec0898a59d7f0031bd1ce48f'),\n",
       " 'transactionIndex': 41,\n",
       " 'type': '0x2'})"
      ]
     },
     "execution_count": 28,
     "metadata": {},
     "output_type": "execute_result"
    }
   ],
   "source": [
    "# wait for the transaction to be mined\n",
    "w3.eth.waitForTransactionReceipt(tx_hash)"
   ]
  },
  {
   "cell_type": "code",
   "execution_count": 29,
   "metadata": {},
   "outputs": [
    {
     "data": {
      "text/plain": [
       "18797689999999433000"
      ]
     },
     "execution_count": 29,
     "metadata": {},
     "output_type": "execute_result"
    }
   ],
   "source": [
    "w3.eth.get_balance(account.address)"
   ]
  },
  {
   "cell_type": "code",
   "execution_count": 62,
   "metadata": {},
   "outputs": [
    {
     "data": {
      "text/plain": [
       "'0xa0519F2739cF0f8E4D6E73A91eBfb71765bc59E1'"
      ]
     },
     "execution_count": 62,
     "metadata": {},
     "output_type": "execute_result"
    }
   ],
   "source": [
    "to_address"
   ]
  },
  {
   "cell_type": "code",
   "execution_count": 30,
   "metadata": {},
   "outputs": [
    {
     "data": {
      "text/plain": [
       "1200000000000000000"
      ]
     },
     "execution_count": 30,
     "metadata": {},
     "output_type": "execute_result"
    }
   ],
   "source": [
    "w3.eth.get_balance(to_address)"
   ]
  },
  {
   "cell_type": "code",
   "execution_count": 59,
   "metadata": {},
   "outputs": [
    {
     "data": {
      "text/plain": [
       "AttributeDict({'blockHash': HexBytes('0xa5c3912ba2c44726a939e615b50d6632a5dae913400514baa2180613c8ff10d1'),\n",
       " 'blockNumber': 33076564,\n",
       " 'contractAddress': None,\n",
       " 'cumulativeGasUsed': 15487058,\n",
       " 'effectiveGasPrice': 30000000012,\n",
       " 'from': '0x3C286c825A5787FF4Ebb9BBaaeC37F2b986c8961',\n",
       " 'gasUsed': 52902,\n",
       " 'logs': [AttributeDict({'address': '0xDD9185DB084f5C4fFf3b4f70E7bA62123b812226',\n",
       "   'topics': [HexBytes('0x8c5be1e5ebec7d5bd14f71427d1e84f3dd0314c0f7b2291e5b200ac8c7c3b925'),\n",
       "    HexBytes('0x0000000000000000000000003c286c825a5787ff4ebb9bbaaec37f2b986c8961'),\n",
       "    HexBytes('0x000000000000000000000000a0519f2739cf0f8e4d6e73a91ebfb71765bc59e1')],\n",
       "   'data': '0x0000000000000000000000000000000000000000000000000000000000000001',\n",
       "   'blockNumber': 33076564,\n",
       "   'transactionHash': HexBytes('0x2342bb1a5c4768805154546190219513233eaacd3986f19b813bbf95bc0048bd'),\n",
       "   'transactionIndex': 46,\n",
       "   'blockHash': HexBytes('0xa5c3912ba2c44726a939e615b50d6632a5dae913400514baa2180613c8ff10d1'),\n",
       "   'logIndex': 244,\n",
       "   'removed': False}),\n",
       "  AttributeDict({'address': '0x0000000000000000000000000000000000001010',\n",
       "   'topics': [HexBytes('0x4dfe1bbbcf077ddc3e01291eea2d5c70c2b422b415d95645b9adcfd678cb1d63'),\n",
       "    HexBytes('0x0000000000000000000000000000000000000000000000000000000000001010'),\n",
       "    HexBytes('0x0000000000000000000000003c286c825a5787ff4ebb9bbaaec37f2b986c8961'),\n",
       "    HexBytes('0x00000000000000000000000046a3a41bd932244dd08186e4c19f1a7e48cbcdf4')],\n",
       "   'data': '0x0000000000000000000000000000000000000000000000000005a36c3389880000000000000000000000000000000000000000000000000104decf75e7e0f928000000000000000000000000000000000000000000001cde127f348c2f457a0900000000000000000000000000000000000000000000000104d92c09b4577128000000000000000000000000000000000000000000001cde1284d7f862cf0209',\n",
       "   'blockNumber': 33076564,\n",
       "   'transactionHash': HexBytes('0x2342bb1a5c4768805154546190219513233eaacd3986f19b813bbf95bc0048bd'),\n",
       "   'transactionIndex': 46,\n",
       "   'blockHash': HexBytes('0xa5c3912ba2c44726a939e615b50d6632a5dae913400514baa2180613c8ff10d1'),\n",
       "   'logIndex': 245,\n",
       "   'removed': False})],\n",
       " 'logsBloom': HexBytes('0x00000000000000000000000000000000040000000000000080000000000000000000000000000000000000004000000000008000000000000000000000200000000000000000080000000000000000800000000000000000000100000000000000000000000000000000000000000000000000000000000080000000000008000000000000000040000000000000000000000000000000000000000000000000220000000000800000000000000000000000080000000000000000000000004000000000000000000001800000000000000000000000000000100000000000000010000000000000000001000000000000000000000000000400000000100002'),\n",
       " 'status': 1,\n",
       " 'to': '0xDD9185DB084f5C4fFf3b4f70E7bA62123b812226',\n",
       " 'transactionHash': HexBytes('0x2342bb1a5c4768805154546190219513233eaacd3986f19b813bbf95bc0048bd'),\n",
       " 'transactionIndex': 46,\n",
       " 'type': '0x2'})"
      ]
     },
     "execution_count": 59,
     "metadata": {},
     "output_type": "execute_result"
    }
   ],
   "source": [
    "# now, lets do a contract call that changes state\n",
    "# first using the ABI\n",
    "usdc_address = '0x2791Bca1f2de4661ED88A30C99A7a9449Aa84174'\n",
    "usdc_abi_json = '[{\"anonymous\":false,\"inputs\":[{\"indexed\":true,\"internalType\":\"address\",\"name\":\"owner\",\"type\":\"address\"},{\"indexed\":true,\"internalType\":\"address\",\"name\":\"spender\",\"type\":\"address\"},{\"indexed\":false,\"internalType\":\"uint256\",\"name\":\"value\",\"type\":\"uint256\"}],\"name\":\"Approval\",\"type\":\"event\"},{\"anonymous\":false,\"inputs\":[{\"indexed\":true,\"internalType\":\"address\",\"name\":\"authorizer\",\"type\":\"address\"},{\"indexed\":true,\"internalType\":\"bytes32\",\"name\":\"nonce\",\"type\":\"bytes32\"}],\"name\":\"AuthorizationCanceled\",\"type\":\"event\"},{\"anonymous\":false,\"inputs\":[{\"indexed\":true,\"internalType\":\"address\",\"name\":\"authorizer\",\"type\":\"address\"},{\"indexed\":true,\"internalType\":\"bytes32\",\"name\":\"nonce\",\"type\":\"bytes32\"}],\"name\":\"AuthorizationUsed\",\"type\":\"event\"},{\"anonymous\":false,\"inputs\":[{\"indexed\":true,\"internalType\":\"address\",\"name\":\"account\",\"type\":\"address\"}],\"name\":\"Blacklisted\",\"type\":\"event\"},{\"anonymous\":false,\"inputs\":[{\"indexed\":false,\"internalType\":\"address\",\"name\":\"userAddress\",\"type\":\"address\"},{\"indexed\":false,\"internalType\":\"address payable\",\"name\":\"relayerAddress\",\"type\":\"address\"},{\"indexed\":false,\"internalType\":\"bytes\",\"name\":\"functionSignature\",\"type\":\"bytes\"}],\"name\":\"MetaTransactionExecuted\",\"type\":\"event\"},{\"anonymous\":false,\"inputs\":[],\"name\":\"Pause\",\"type\":\"event\"},{\"anonymous\":false,\"inputs\":[{\"indexed\":true,\"internalType\":\"address\",\"name\":\"newRescuer\",\"type\":\"address\"}],\"name\":\"RescuerChanged\",\"type\":\"event\"},{\"anonymous\":false,\"inputs\":[{\"indexed\":true,\"internalType\":\"bytes32\",\"name\":\"role\",\"type\":\"bytes32\"},{\"indexed\":true,\"internalType\":\"bytes32\",\"name\":\"previousAdminRole\",\"type\":\"bytes32\"},{\"indexed\":true,\"internalType\":\"bytes32\",\"name\":\"newAdminRole\",\"type\":\"bytes32\"}],\"name\":\"RoleAdminChanged\",\"type\":\"event\"},{\"anonymous\":false,\"inputs\":[{\"indexed\":true,\"internalType\":\"bytes32\",\"name\":\"role\",\"type\":\"bytes32\"},{\"indexed\":true,\"internalType\":\"address\",\"name\":\"account\",\"type\":\"address\"},{\"indexed\":true,\"internalType\":\"address\",\"name\":\"sender\",\"type\":\"address\"}],\"name\":\"RoleGranted\",\"type\":\"event\"},{\"anonymous\":false,\"inputs\":[{\"indexed\":true,\"internalType\":\"bytes32\",\"name\":\"role\",\"type\":\"bytes32\"},{\"indexed\":true,\"internalType\":\"address\",\"name\":\"account\",\"type\":\"address\"},{\"indexed\":true,\"internalType\":\"address\",\"name\":\"sender\",\"type\":\"address\"}],\"name\":\"RoleRevoked\",\"type\":\"event\"},{\"anonymous\":false,\"inputs\":[{\"indexed\":true,\"internalType\":\"address\",\"name\":\"from\",\"type\":\"address\"},{\"indexed\":true,\"internalType\":\"address\",\"name\":\"to\",\"type\":\"address\"},{\"indexed\":false,\"internalType\":\"uint256\",\"name\":\"value\",\"type\":\"uint256\"}],\"name\":\"Transfer\",\"type\":\"event\"},{\"anonymous\":false,\"inputs\":[{\"indexed\":true,\"internalType\":\"address\",\"name\":\"account\",\"type\":\"address\"}],\"name\":\"UnBlacklisted\",\"type\":\"event\"},{\"anonymous\":false,\"inputs\":[],\"name\":\"Unpause\",\"type\":\"event\"},{\"inputs\":[],\"name\":\"APPROVE_WITH_AUTHORIZATION_TYPEHASH\",\"outputs\":[{\"internalType\":\"bytes32\",\"name\":\"\",\"type\":\"bytes32\"}],\"stateMutability\":\"view\",\"type\":\"function\"},{\"inputs\":[],\"name\":\"BLACKLISTER_ROLE\",\"outputs\":[{\"internalType\":\"bytes32\",\"name\":\"\",\"type\":\"bytes32\"}],\"stateMutability\":\"view\",\"type\":\"function\"},{\"inputs\":[],\"name\":\"CANCEL_AUTHORIZATION_TYPEHASH\",\"outputs\":[{\"internalType\":\"bytes32\",\"name\":\"\",\"type\":\"bytes32\"}],\"stateMutability\":\"view\",\"type\":\"function\"},{\"inputs\":[],\"name\":\"DECREASE_ALLOWANCE_WITH_AUTHORIZATION_TYPEHASH\",\"outputs\":[{\"internalType\":\"bytes32\",\"name\":\"\",\"type\":\"bytes32\"}],\"stateMutability\":\"view\",\"type\":\"function\"},{\"inputs\":[],\"name\":\"DEFAULT_ADMIN_ROLE\",\"outputs\":[{\"internalType\":\"bytes32\",\"name\":\"\",\"type\":\"bytes32\"}],\"stateMutability\":\"view\",\"type\":\"function\"},{\"inputs\":[],\"name\":\"DEPOSITOR_ROLE\",\"outputs\":[{\"internalType\":\"bytes32\",\"name\":\"\",\"type\":\"bytes32\"}],\"stateMutability\":\"view\",\"type\":\"function\"},{\"inputs\":[],\"name\":\"DOMAIN_SEPARATOR\",\"outputs\":[{\"internalType\":\"bytes32\",\"name\":\"\",\"type\":\"bytes32\"}],\"stateMutability\":\"view\",\"type\":\"function\"},{\"inputs\":[],\"name\":\"EIP712_VERSION\",\"outputs\":[{\"internalType\":\"string\",\"name\":\"\",\"type\":\"string\"}],\"stateMutability\":\"view\",\"type\":\"function\"},{\"inputs\":[],\"name\":\"INCREASE_ALLOWANCE_WITH_AUTHORIZATION_TYPEHASH\",\"outputs\":[{\"internalType\":\"bytes32\",\"name\":\"\",\"type\":\"bytes32\"}],\"stateMutability\":\"view\",\"type\":\"function\"},{\"inputs\":[],\"name\":\"META_TRANSACTION_TYPEHASH\",\"outputs\":[{\"internalType\":\"bytes32\",\"name\":\"\",\"type\":\"bytes32\"}],\"stateMutability\":\"view\",\"type\":\"function\"},{\"inputs\":[],\"name\":\"PAUSER_ROLE\",\"outputs\":[{\"internalType\":\"bytes32\",\"name\":\"\",\"type\":\"bytes32\"}],\"stateMutability\":\"view\",\"type\":\"function\"},{\"inputs\":[],\"name\":\"PERMIT_TYPEHASH\",\"outputs\":[{\"internalType\":\"bytes32\",\"name\":\"\",\"type\":\"bytes32\"}],\"stateMutability\":\"view\",\"type\":\"function\"},{\"inputs\":[],\"name\":\"RESCUER_ROLE\",\"outputs\":[{\"internalType\":\"bytes32\",\"name\":\"\",\"type\":\"bytes32\"}],\"stateMutability\":\"view\",\"type\":\"function\"},{\"inputs\":[],\"name\":\"TRANSFER_WITH_AUTHORIZATION_TYPEHASH\",\"outputs\":[{\"internalType\":\"bytes32\",\"name\":\"\",\"type\":\"bytes32\"}],\"stateMutability\":\"view\",\"type\":\"function\"},{\"inputs\":[],\"name\":\"WITHDRAW_WITH_AUTHORIZATION_TYPEHASH\",\"outputs\":[{\"internalType\":\"bytes32\",\"name\":\"\",\"type\":\"bytes32\"}],\"stateMutability\":\"view\",\"type\":\"function\"},{\"inputs\":[{\"internalType\":\"address\",\"name\":\"owner\",\"type\":\"address\"},{\"internalType\":\"address\",\"name\":\"spender\",\"type\":\"address\"}],\"name\":\"allowance\",\"outputs\":[{\"internalType\":\"uint256\",\"name\":\"\",\"type\":\"uint256\"}],\"stateMutability\":\"view\",\"type\":\"function\"},{\"inputs\":[{\"internalType\":\"address\",\"name\":\"spender\",\"type\":\"address\"},{\"internalType\":\"uint256\",\"name\":\"amount\",\"type\":\"uint256\"}],\"name\":\"approve\",\"outputs\":[{\"internalType\":\"bool\",\"name\":\"\",\"type\":\"bool\"}],\"stateMutability\":\"nonpayable\",\"type\":\"function\"},{\"inputs\":[{\"internalType\":\"address\",\"name\":\"owner\",\"type\":\"address\"},{\"internalType\":\"address\",\"name\":\"spender\",\"type\":\"address\"},{\"internalType\":\"uint256\",\"name\":\"value\",\"type\":\"uint256\"},{\"internalType\":\"uint256\",\"name\":\"validAfter\",\"type\":\"uint256\"},{\"internalType\":\"uint256\",\"name\":\"validBefore\",\"type\":\"uint256\"},{\"internalType\":\"bytes32\",\"name\":\"nonce\",\"type\":\"bytes32\"},{\"internalType\":\"uint8\",\"name\":\"v\",\"type\":\"uint8\"},{\"internalType\":\"bytes32\",\"name\":\"r\",\"type\":\"bytes32\"},{\"internalType\":\"bytes32\",\"name\":\"s\",\"type\":\"bytes32\"}],\"name\":\"approveWithAuthorization\",\"outputs\":[],\"stateMutability\":\"nonpayable\",\"type\":\"function\"},{\"inputs\":[{\"internalType\":\"address\",\"name\":\"authorizer\",\"type\":\"address\"},{\"internalType\":\"bytes32\",\"name\":\"nonce\",\"type\":\"bytes32\"}],\"name\":\"authorizationState\",\"outputs\":[{\"internalType\":\"enum GasAbstraction.AuthorizationState\",\"name\":\"\",\"type\":\"uint8\"}],\"stateMutability\":\"view\",\"type\":\"function\"},{\"inputs\":[{\"internalType\":\"address\",\"name\":\"account\",\"type\":\"address\"}],\"name\":\"balanceOf\",\"outputs\":[{\"internalType\":\"uint256\",\"name\":\"\",\"type\":\"uint256\"}],\"stateMutability\":\"view\",\"type\":\"function\"},{\"inputs\":[{\"internalType\":\"address\",\"name\":\"account\",\"type\":\"address\"}],\"name\":\"blacklist\",\"outputs\":[],\"stateMutability\":\"nonpayable\",\"type\":\"function\"},{\"inputs\":[],\"name\":\"blacklisters\",\"outputs\":[{\"internalType\":\"address[]\",\"name\":\"\",\"type\":\"address[]\"}],\"stateMutability\":\"view\",\"type\":\"function\"},{\"inputs\":[{\"internalType\":\"address\",\"name\":\"authorizer\",\"type\":\"address\"},{\"internalType\":\"bytes32\",\"name\":\"nonce\",\"type\":\"bytes32\"},{\"internalType\":\"uint8\",\"name\":\"v\",\"type\":\"uint8\"},{\"internalType\":\"bytes32\",\"name\":\"r\",\"type\":\"bytes32\"},{\"internalType\":\"bytes32\",\"name\":\"s\",\"type\":\"bytes32\"}],\"name\":\"cancelAuthorization\",\"outputs\":[],\"stateMutability\":\"nonpayable\",\"type\":\"function\"},{\"inputs\":[],\"name\":\"decimals\",\"outputs\":[{\"internalType\":\"uint8\",\"name\":\"\",\"type\":\"uint8\"}],\"stateMutability\":\"view\",\"type\":\"function\"},{\"inputs\":[{\"internalType\":\"address\",\"name\":\"spender\",\"type\":\"address\"},{\"internalType\":\"uint256\",\"name\":\"subtractedValue\",\"type\":\"uint256\"}],\"name\":\"decreaseAllowance\",\"outputs\":[{\"internalType\":\"bool\",\"name\":\"\",\"type\":\"bool\"}],\"stateMutability\":\"nonpayable\",\"type\":\"function\"},{\"inputs\":[{\"internalType\":\"address\",\"name\":\"owner\",\"type\":\"address\"},{\"internalType\":\"address\",\"name\":\"spender\",\"type\":\"address\"},{\"internalType\":\"uint256\",\"name\":\"decrement\",\"type\":\"uint256\"},{\"internalType\":\"uint256\",\"name\":\"validAfter\",\"type\":\"uint256\"},{\"internalType\":\"uint256\",\"name\":\"validBefore\",\"type\":\"uint256\"},{\"internalType\":\"bytes32\",\"name\":\"nonce\",\"type\":\"bytes32\"},{\"internalType\":\"uint8\",\"name\":\"v\",\"type\":\"uint8\"},{\"internalType\":\"bytes32\",\"name\":\"r\",\"type\":\"bytes32\"},{\"internalType\":\"bytes32\",\"name\":\"s\",\"type\":\"bytes32\"}],\"name\":\"decreaseAllowanceWithAuthorization\",\"outputs\":[],\"stateMutability\":\"nonpayable\",\"type\":\"function\"},{\"inputs\":[{\"internalType\":\"address\",\"name\":\"user\",\"type\":\"address\"},{\"internalType\":\"bytes\",\"name\":\"depositData\",\"type\":\"bytes\"}],\"name\":\"deposit\",\"outputs\":[],\"stateMutability\":\"nonpayable\",\"type\":\"function\"},{\"inputs\":[{\"internalType\":\"address\",\"name\":\"userAddress\",\"type\":\"address\"},{\"internalType\":\"bytes\",\"name\":\"functionSignature\",\"type\":\"bytes\"},{\"internalType\":\"bytes32\",\"name\":\"sigR\",\"type\":\"bytes32\"},{\"internalType\":\"bytes32\",\"name\":\"sigS\",\"type\":\"bytes32\"},{\"internalType\":\"uint8\",\"name\":\"sigV\",\"type\":\"uint8\"}],\"name\":\"executeMetaTransaction\",\"outputs\":[{\"internalType\":\"bytes\",\"name\":\"\",\"type\":\"bytes\"}],\"stateMutability\":\"payable\",\"type\":\"function\"},{\"inputs\":[{\"internalType\":\"bytes32\",\"name\":\"role\",\"type\":\"bytes32\"}],\"name\":\"getRoleAdmin\",\"outputs\":[{\"internalType\":\"bytes32\",\"name\":\"\",\"type\":\"bytes32\"}],\"stateMutability\":\"view\",\"type\":\"function\"},{\"inputs\":[{\"internalType\":\"bytes32\",\"name\":\"role\",\"type\":\"bytes32\"},{\"internalType\":\"uint256\",\"name\":\"index\",\"type\":\"uint256\"}],\"name\":\"getRoleMember\",\"outputs\":[{\"internalType\":\"address\",\"name\":\"\",\"type\":\"address\"}],\"stateMutability\":\"view\",\"type\":\"function\"},{\"inputs\":[{\"internalType\":\"bytes32\",\"name\":\"role\",\"type\":\"bytes32\"}],\"name\":\"getRoleMemberCount\",\"outputs\":[{\"internalType\":\"uint256\",\"name\":\"\",\"type\":\"uint256\"}],\"stateMutability\":\"view\",\"type\":\"function\"},{\"inputs\":[{\"internalType\":\"bytes32\",\"name\":\"role\",\"type\":\"bytes32\"},{\"internalType\":\"address\",\"name\":\"account\",\"type\":\"address\"}],\"name\":\"grantRole\",\"outputs\":[],\"stateMutability\":\"nonpayable\",\"type\":\"function\"},{\"inputs\":[{\"internalType\":\"bytes32\",\"name\":\"role\",\"type\":\"bytes32\"},{\"internalType\":\"address\",\"name\":\"account\",\"type\":\"address\"}],\"name\":\"hasRole\",\"outputs\":[{\"internalType\":\"bool\",\"name\":\"\",\"type\":\"bool\"}],\"stateMutability\":\"view\",\"type\":\"function\"},{\"inputs\":[{\"internalType\":\"address\",\"name\":\"spender\",\"type\":\"address\"},{\"internalType\":\"uint256\",\"name\":\"addedValue\",\"type\":\"uint256\"}],\"name\":\"increaseAllowance\",\"outputs\":[{\"internalType\":\"bool\",\"name\":\"\",\"type\":\"bool\"}],\"stateMutability\":\"nonpayable\",\"type\":\"function\"},{\"inputs\":[{\"internalType\":\"address\",\"name\":\"owner\",\"type\":\"address\"},{\"internalType\":\"address\",\"name\":\"spender\",\"type\":\"address\"},{\"internalType\":\"uint256\",\"name\":\"increment\",\"type\":\"uint256\"},{\"internalType\":\"uint256\",\"name\":\"validAfter\",\"type\":\"uint256\"},{\"internalType\":\"uint256\",\"name\":\"validBefore\",\"type\":\"uint256\"},{\"internalType\":\"bytes32\",\"name\":\"nonce\",\"type\":\"bytes32\"},{\"internalType\":\"uint8\",\"name\":\"v\",\"type\":\"uint8\"},{\"internalType\":\"bytes32\",\"name\":\"r\",\"type\":\"bytes32\"},{\"internalType\":\"bytes32\",\"name\":\"s\",\"type\":\"bytes32\"}],\"name\":\"increaseAllowanceWithAuthorization\",\"outputs\":[],\"stateMutability\":\"nonpayable\",\"type\":\"function\"},{\"inputs\":[{\"internalType\":\"string\",\"name\":\"newName\",\"type\":\"string\"},{\"internalType\":\"string\",\"name\":\"newSymbol\",\"type\":\"string\"},{\"internalType\":\"uint8\",\"name\":\"newDecimals\",\"type\":\"uint8\"},{\"internalType\":\"address\",\"name\":\"childChainManager\",\"type\":\"address\"}],\"name\":\"initialize\",\"outputs\":[],\"stateMutability\":\"nonpayable\",\"type\":\"function\"},{\"inputs\":[],\"name\":\"initialized\",\"outputs\":[{\"internalType\":\"bool\",\"name\":\"\",\"type\":\"bool\"}],\"stateMutability\":\"view\",\"type\":\"function\"},{\"inputs\":[{\"internalType\":\"address\",\"name\":\"account\",\"type\":\"address\"}],\"name\":\"isBlacklisted\",\"outputs\":[{\"internalType\":\"bool\",\"name\":\"\",\"type\":\"bool\"}],\"stateMutability\":\"view\",\"type\":\"function\"},{\"inputs\":[],\"name\":\"name\",\"outputs\":[{\"internalType\":\"string\",\"name\":\"\",\"type\":\"string\"}],\"stateMutability\":\"view\",\"type\":\"function\"},{\"inputs\":[{\"internalType\":\"address\",\"name\":\"owner\",\"type\":\"address\"}],\"name\":\"nonces\",\"outputs\":[{\"internalType\":\"uint256\",\"name\":\"\",\"type\":\"uint256\"}],\"stateMutability\":\"view\",\"type\":\"function\"},{\"inputs\":[],\"name\":\"pause\",\"outputs\":[],\"stateMutability\":\"nonpayable\",\"type\":\"function\"},{\"inputs\":[],\"name\":\"paused\",\"outputs\":[{\"internalType\":\"bool\",\"name\":\"\",\"type\":\"bool\"}],\"stateMutability\":\"view\",\"type\":\"function\"},{\"inputs\":[],\"name\":\"pausers\",\"outputs\":[{\"internalType\":\"address[]\",\"name\":\"\",\"type\":\"address[]\"}],\"stateMutability\":\"view\",\"type\":\"function\"},{\"inputs\":[{\"internalType\":\"address\",\"name\":\"owner\",\"type\":\"address\"},{\"internalType\":\"address\",\"name\":\"spender\",\"type\":\"address\"},{\"internalType\":\"uint256\",\"name\":\"value\",\"type\":\"uint256\"},{\"internalType\":\"uint256\",\"name\":\"deadline\",\"type\":\"uint256\"},{\"internalType\":\"uint8\",\"name\":\"v\",\"type\":\"uint8\"},{\"internalType\":\"bytes32\",\"name\":\"r\",\"type\":\"bytes32\"},{\"internalType\":\"bytes32\",\"name\":\"s\",\"type\":\"bytes32\"}],\"name\":\"permit\",\"outputs\":[],\"stateMutability\":\"nonpayable\",\"type\":\"function\"},{\"inputs\":[{\"internalType\":\"bytes32\",\"name\":\"role\",\"type\":\"bytes32\"},{\"internalType\":\"address\",\"name\":\"account\",\"type\":\"address\"}],\"name\":\"renounceRole\",\"outputs\":[],\"stateMutability\":\"nonpayable\",\"type\":\"function\"},{\"inputs\":[{\"internalType\":\"contract IERC20\",\"name\":\"tokenContract\",\"type\":\"address\"},{\"internalType\":\"address\",\"name\":\"to\",\"type\":\"address\"},{\"internalType\":\"uint256\",\"name\":\"amount\",\"type\":\"uint256\"}],\"name\":\"rescueERC20\",\"outputs\":[],\"stateMutability\":\"nonpayable\",\"type\":\"function\"},{\"inputs\":[],\"name\":\"rescuers\",\"outputs\":[{\"internalType\":\"address[]\",\"name\":\"\",\"type\":\"address[]\"}],\"stateMutability\":\"view\",\"type\":\"function\"},{\"inputs\":[{\"internalType\":\"bytes32\",\"name\":\"role\",\"type\":\"bytes32\"},{\"internalType\":\"address\",\"name\":\"account\",\"type\":\"address\"}],\"name\":\"revokeRole\",\"outputs\":[],\"stateMutability\":\"nonpayable\",\"type\":\"function\"},{\"inputs\":[],\"name\":\"symbol\",\"outputs\":[{\"internalType\":\"string\",\"name\":\"\",\"type\":\"string\"}],\"stateMutability\":\"view\",\"type\":\"function\"},{\"inputs\":[],\"name\":\"totalSupply\",\"outputs\":[{\"internalType\":\"uint256\",\"name\":\"\",\"type\":\"uint256\"}],\"stateMutability\":\"view\",\"type\":\"function\"},{\"inputs\":[{\"internalType\":\"address\",\"name\":\"recipient\",\"type\":\"address\"},{\"internalType\":\"uint256\",\"name\":\"amount\",\"type\":\"uint256\"}],\"name\":\"transfer\",\"outputs\":[{\"internalType\":\"bool\",\"name\":\"\",\"type\":\"bool\"}],\"stateMutability\":\"nonpayable\",\"type\":\"function\"},{\"inputs\":[{\"internalType\":\"address\",\"name\":\"sender\",\"type\":\"address\"},{\"internalType\":\"address\",\"name\":\"recipient\",\"type\":\"address\"},{\"internalType\":\"uint256\",\"name\":\"amount\",\"type\":\"uint256\"}],\"name\":\"transferFrom\",\"outputs\":[{\"internalType\":\"bool\",\"name\":\"\",\"type\":\"bool\"}],\"stateMutability\":\"nonpayable\",\"type\":\"function\"},{\"inputs\":[{\"internalType\":\"address\",\"name\":\"from\",\"type\":\"address\"},{\"internalType\":\"address\",\"name\":\"to\",\"type\":\"address\"},{\"internalType\":\"uint256\",\"name\":\"value\",\"type\":\"uint256\"},{\"internalType\":\"uint256\",\"name\":\"validAfter\",\"type\":\"uint256\"},{\"internalType\":\"uint256\",\"name\":\"validBefore\",\"type\":\"uint256\"},{\"internalType\":\"bytes32\",\"name\":\"nonce\",\"type\":\"bytes32\"},{\"internalType\":\"uint8\",\"name\":\"v\",\"type\":\"uint8\"},{\"internalType\":\"bytes32\",\"name\":\"r\",\"type\":\"bytes32\"},{\"internalType\":\"bytes32\",\"name\":\"s\",\"type\":\"bytes32\"}],\"name\":\"transferWithAuthorization\",\"outputs\":[],\"stateMutability\":\"nonpayable\",\"type\":\"function\"},{\"inputs\":[{\"internalType\":\"address\",\"name\":\"account\",\"type\":\"address\"}],\"name\":\"unBlacklist\",\"outputs\":[],\"stateMutability\":\"nonpayable\",\"type\":\"function\"},{\"inputs\":[],\"name\":\"unpause\",\"outputs\":[],\"stateMutability\":\"nonpayable\",\"type\":\"function\"},{\"inputs\":[{\"internalType\":\"string\",\"name\":\"newName\",\"type\":\"string\"},{\"internalType\":\"string\",\"name\":\"newSymbol\",\"type\":\"string\"}],\"name\":\"updateMetadata\",\"outputs\":[],\"stateMutability\":\"nonpayable\",\"type\":\"function\"},{\"inputs\":[{\"internalType\":\"uint256\",\"name\":\"amount\",\"type\":\"uint256\"}],\"name\":\"withdraw\",\"outputs\":[],\"stateMutability\":\"nonpayable\",\"type\":\"function\"},{\"inputs\":[{\"internalType\":\"address\",\"name\":\"owner\",\"type\":\"address\"},{\"internalType\":\"uint256\",\"name\":\"value\",\"type\":\"uint256\"},{\"internalType\":\"uint256\",\"name\":\"validAfter\",\"type\":\"uint256\"},{\"internalType\":\"uint256\",\"name\":\"validBefore\",\"type\":\"uint256\"},{\"internalType\":\"bytes32\",\"name\":\"nonce\",\"type\":\"bytes32\"},{\"internalType\":\"uint8\",\"name\":\"v\",\"type\":\"uint8\"},{\"internalType\":\"bytes32\",\"name\":\"r\",\"type\":\"bytes32\"},{\"internalType\":\"bytes32\",\"name\":\"s\",\"type\":\"bytes32\"}],\"name\":\"withdrawWithAuthorization\",\"outputs\":[],\"stateMutability\":\"nonpayable\",\"type\":\"function\"}]'\n",
    "\n",
    "usdc_abi = json.loads(usdc_abi_json)\n",
    "usdc_contract = w3.eth.contract(address=usdc_address, abi=usdc_abi)\n",
    "\n",
    "tx = usdc_contract.functions.approve(to_address, 1).buildTransaction({\n",
    "    'gas': 200000,\n",
    "    'chainId': 137,\n",
    "    'maxFeePerGas': w3.eth.gas_price,\n",
    "    'maxPriorityFeePerGas': w3.eth.max_priority_fee,\n",
    "    'from': account.address,\n",
    "    'nonce': w3.eth.getTransactionCount(account.address)\n",
    "    }) \n",
    "signed_txn = w3.eth.account.signTransaction(tx, private_key=account.privateKey)\n",
    "tx_hash = w3.eth.sendRawTransaction(signed_txn.rawTransaction)\n",
    "w3.eth.wait_for_transaction_receipt(tx_hash)"
   ]
  },
  {
   "cell_type": "code",
   "execution_count": 60,
   "metadata": {},
   "outputs": [
    {
     "data": {
      "text/plain": [
       "'0x2342bb1a5c4768805154546190219513233eaacd3986f19b813bbf95bc0048bd'"
      ]
     },
     "execution_count": 60,
     "metadata": {},
     "output_type": "execute_result"
    }
   ],
   "source": [
    "# lets look on polygon explorer\n",
    "tx_hash.hex()"
   ]
  },
  {
   "cell_type": "code",
   "execution_count": null,
   "metadata": {},
   "outputs": [],
   "source": [
    "# second doing a raw call\n",
    "# raw calls may be necessary when you are using a contract that is not verified on etherscan (e.g. an attacker contract)\n",
    "# or there is no contract yet (e.g. deploy a contract)\n",
    "\n",
    "usdc_address = '0x2791Bca1f2de4661ED88A30C99A7a9449Aa84174'"
   ]
  },
  {
   "cell_type": "code",
   "execution_count": 63,
   "metadata": {},
   "outputs": [
    {
     "data": {
      "text/plain": [
       "'0x095ea7b3'"
      ]
     },
     "execution_count": 63,
     "metadata": {},
     "output_type": "execute_result"
    }
   ],
   "source": [
    "Web3.keccak(text='approve(address,uint256)').hex()[0:10]"
   ]
  },
  {
   "cell_type": "code",
   "execution_count": 71,
   "metadata": {},
   "outputs": [
    {
     "data": {
      "text/plain": [
       "b'\\t^\\xa7\\xb3\\x00\\x00\\x00\\x00\\x00\\x00\\x00\\x00\\x00\\x00\\x00\\x00<(l\\x82ZW\\x87\\xffN\\xbb\\x9b\\xba\\xae\\xc3\\x7f+\\x98l\\x89a\\x00\\x00\\x00\\x00\\x00\\x00\\x00\\x00\\x00\\x00\\x00\\x00\\x00\\x00\\x00\\x00\\x00\\x00\\x00\\x00\\x00\\x00\\x00\\x00\\x00\\x00\\x00\\x00\\x00\\x00\\x00\\x00'"
      ]
     },
     "execution_count": 71,
     "metadata": {},
     "output_type": "execute_result"
    }
   ],
   "source": [
    "approve = HexBytes('0x095ea7b3')\n",
    "val = approve\n",
    "for i in range(12): #pad to 32 bytes\n",
    "    val+= HexBytes(0)\n",
    "val+=HexBytes(account.address)\n",
    "for i in range(32): #val of 0 - 32 bytes\n",
    "    val+= HexBytes(0)\n",
    "val"
   ]
  },
  {
   "cell_type": "code",
   "execution_count": 72,
   "metadata": {},
   "outputs": [
    {
     "ename": "TimeExhausted",
     "evalue": "Transaction HexBytes('0x05d18d1dceddcb70269129723f0cd78bb55037b01e37cc2f673679d9eb224dd6') is not in the chain after 120 seconds",
     "output_type": "error",
     "traceback": [
      "\u001b[0;31m---------------------------------------------------------------------------\u001b[0m",
      "\u001b[0;31mTimeout\u001b[0m                                   Traceback (most recent call last)",
      "File \u001b[0;32m/opt/anaconda3/envs/seattleu/lib/python3.8/site-packages/web3/eth.py:783\u001b[0m, in \u001b[0;36mEth.wait_for_transaction_receipt\u001b[0;34m(self, transaction_hash, timeout, poll_latency)\u001b[0m\n\u001b[1;32m    782\u001b[0m             \u001b[39mbreak\u001b[39;00m\n\u001b[0;32m--> 783\u001b[0m         _timeout\u001b[39m.\u001b[39;49msleep(poll_latency)\n\u001b[1;32m    784\u001b[0m \u001b[39mreturn\u001b[39;00m tx_receipt\n",
      "File \u001b[0;32m/opt/anaconda3/envs/seattleu/lib/python3.8/site-packages/web3/_utils/threads.py:89\u001b[0m, in \u001b[0;36mTimeout.sleep\u001b[0;34m(self, seconds)\u001b[0m\n\u001b[1;32m     88\u001b[0m time\u001b[39m.\u001b[39msleep(seconds)\n\u001b[0;32m---> 89\u001b[0m \u001b[39mself\u001b[39;49m\u001b[39m.\u001b[39;49mcheck()\n",
      "File \u001b[0;32m/opt/anaconda3/envs/seattleu/lib/python3.8/site-packages/web3/_utils/threads.py:82\u001b[0m, in \u001b[0;36mTimeout.check\u001b[0;34m(self)\u001b[0m\n\u001b[1;32m     81\u001b[0m \u001b[39melse\u001b[39;00m:\n\u001b[0;32m---> 82\u001b[0m     \u001b[39mraise\u001b[39;00m \u001b[39mself\u001b[39m\n",
      "\u001b[0;31mTimeout\u001b[0m: 120 seconds",
      "\nDuring handling of the above exception, another exception occurred:\n",
      "\u001b[0;31mTimeExhausted\u001b[0m                             Traceback (most recent call last)",
      "\u001b[1;32m/Users/christianseifert/personal/SeattleU/code/Session07_WriteBlockchainState.ipynb Cell 18\u001b[0m in \u001b[0;36m<cell line: 14>\u001b[0;34m()\u001b[0m\n\u001b[1;32m     <a href='vscode-notebook-cell:/Users/christianseifert/personal/SeattleU/code/Session07_WriteBlockchainState.ipynb#X45sZmlsZQ%3D%3D?line=11'>12</a>\u001b[0m signed_tx \u001b[39m=\u001b[39m w3\u001b[39m.\u001b[39meth\u001b[39m.\u001b[39maccount\u001b[39m.\u001b[39msign_transaction(raw_tx,account\u001b[39m.\u001b[39mkey)\n\u001b[1;32m     <a href='vscode-notebook-cell:/Users/christianseifert/personal/SeattleU/code/Session07_WriteBlockchainState.ipynb#X45sZmlsZQ%3D%3D?line=12'>13</a>\u001b[0m tx_hash \u001b[39m=\u001b[39m w3\u001b[39m.\u001b[39meth\u001b[39m.\u001b[39msend_raw_transaction(signed_tx\u001b[39m.\u001b[39mrawTransaction)\n\u001b[0;32m---> <a href='vscode-notebook-cell:/Users/christianseifert/personal/SeattleU/code/Session07_WriteBlockchainState.ipynb#X45sZmlsZQ%3D%3D?line=13'>14</a>\u001b[0m w3\u001b[39m.\u001b[39;49meth\u001b[39m.\u001b[39;49mwait_for_transaction_receipt(tx_hash)\n",
      "File \u001b[0;32m/opt/anaconda3/envs/seattleu/lib/python3.8/site-packages/web3/eth.py:787\u001b[0m, in \u001b[0;36mEth.wait_for_transaction_receipt\u001b[0;34m(self, transaction_hash, timeout, poll_latency)\u001b[0m\n\u001b[1;32m    784\u001b[0m     \u001b[39mreturn\u001b[39;00m tx_receipt\n\u001b[1;32m    786\u001b[0m \u001b[39mexcept\u001b[39;00m Timeout:\n\u001b[0;32m--> 787\u001b[0m     \u001b[39mraise\u001b[39;00m TimeExhausted(\n\u001b[1;32m    788\u001b[0m         \u001b[39mf\u001b[39m\u001b[39m\"\u001b[39m\u001b[39mTransaction \u001b[39m\u001b[39m{\u001b[39;00mHexBytes(transaction_hash) \u001b[39m!r}\u001b[39;00m\u001b[39m is not in the chain \u001b[39m\u001b[39m\"\u001b[39m\n\u001b[1;32m    789\u001b[0m         \u001b[39mf\u001b[39m\u001b[39m\"\u001b[39m\u001b[39mafter \u001b[39m\u001b[39m{\u001b[39;00mtimeout\u001b[39m}\u001b[39;00m\u001b[39m seconds\u001b[39m\u001b[39m\"\u001b[39m\n\u001b[1;32m    790\u001b[0m     )\n",
      "\u001b[0;31mTimeExhausted\u001b[0m: Transaction HexBytes('0x05d18d1dceddcb70269129723f0cd78bb55037b01e37cc2f673679d9eb224dd6') is not in the chain after 120 seconds"
     ]
    }
   ],
   "source": [
    "raw_tx = {\n",
    "    'gas': 200000,\n",
    "    'chainId': 137,\n",
    "    'maxFeePerGas': w3.eth.gas_price,\n",
    "    'maxPriorityFeePerGas': w3.eth.max_priority_fee,\n",
    "    'from': account.address,\n",
    "    'nonce': w3.eth.getTransactionCount(account.address),\n",
    "    'to': usdc_address,\n",
    "    'data': val\n",
    "    } \n",
    "\n",
    "signed_tx = w3.eth.account.sign_transaction(raw_tx,account.key)\n",
    "tx_hash = w3.eth.send_raw_transaction(signed_tx.rawTransaction)\n",
    "w3.eth.wait_for_transaction_receipt(tx_hash)"
   ]
  },
  {
   "cell_type": "code",
   "execution_count": null,
   "metadata": {},
   "outputs": [],
   "source": [
    "tx_hash"
   ]
  }
 ],
 "metadata": {
  "kernelspec": {
   "display_name": "Python 3.8.13 ('seattleu')",
   "language": "python",
   "name": "python3"
  },
  "language_info": {
   "codemirror_mode": {
    "name": "ipython",
    "version": 3
   },
   "file_extension": ".py",
   "mimetype": "text/x-python",
   "name": "python",
   "nbconvert_exporter": "python",
   "pygments_lexer": "ipython3",
   "version": "3.8.13"
  },
  "orig_nbformat": 4,
  "vscode": {
   "interpreter": {
    "hash": "8917355fab40639117bb7642ead643737be3b8a4d9b248feaba9ce2c41e6cbf7"
   }
  }
 },
 "nbformat": 4,
 "nbformat_minor": 2
}
